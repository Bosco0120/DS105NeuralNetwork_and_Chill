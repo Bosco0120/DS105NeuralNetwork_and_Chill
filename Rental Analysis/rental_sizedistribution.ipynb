{
 "cells": [
  {
   "attachments": {},
   "cell_type": "markdown",
   "metadata": {},
   "source": [
    "# Rental Size Distribution Analysis\n",
    "Looking at the sizes distribution of properties on Idealistaof the 10 Spanish provinces of choice"
   ]
  },
  {
   "cell_type": "code",
   "execution_count": 1,
   "metadata": {},
   "outputs": [
    {
     "name": "stdout",
     "output_type": "stream",
     "text": [
      "       price propertyType operation   size  rooms  bathrooms    province   \n",
      "0     1200.0         flat      rent  130.0      3          2   Barcelona  \\\n",
      "1     1390.0         flat      rent   90.0      2          2   Barcelona   \n",
      "2     3000.0       chalet      rent  323.0      4          4   Barcelona   \n",
      "3     4200.0       chalet      rent  507.0      5          5   Barcelona   \n",
      "4     9000.0       chalet      rent  957.0      5          6   Barcelona   \n",
      "...      ...          ...       ...    ...    ...        ...         ...   \n",
      "4516   750.0         flat      rent   65.0      1          1  Las Palmas   \n",
      "4517   850.0         flat      rent   65.0      3          1  Las Palmas   \n",
      "4518  1400.0         flat      rent  130.0      3          2  Las Palmas   \n",
      "4519   650.0    penthouse      rent   30.0      0          1  Las Palmas   \n",
      "4520  1300.0         flat      rent  115.0      3          2  Las Palmas   \n",
      "\n",
      "                    municipality           district country  distance   \n",
      "0          Cerdanyola del Vallès           Fontetes      es   11988.0  \\\n",
      "1          Sant Cugat del Vallès          Can Matas      es   13943.0   \n",
      "2          Sant Cugat del Vallès         Valldoreix      es   12487.0   \n",
      "3          Sant Cugat del Vallès               Golf      es   11093.0   \n",
      "4          Cerdanyola del Vallès         Bellaterra      es   14194.0   \n",
      "...                          ...                ...     ...       ...   \n",
      "4516  Las Palmas de Gran Canaria  Puerto - Canteras      es    3375.0   \n",
      "4517  Las Palmas de Gran Canaria             Centro      es    1145.0   \n",
      "4518  Las Palmas de Gran Canaria   Vegueta - Triana      es    2598.0   \n",
      "4519  Las Palmas de Gran Canaria  Puerto - Canteras      es    3258.0   \n",
      "4520  Las Palmas de Gran Canaria  Puerto - Canteras      es    1335.0   \n",
      "\n",
      "      newDevelopment  hasLift  priceByArea newDevelopmentFinished  \n",
      "0              False     True          9.0                    NaN  \n",
      "1              False     True         15.0                    NaN  \n",
      "2              False     True          9.0                    NaN  \n",
      "3              False     True          8.0                    NaN  \n",
      "4              False     True          9.0                    NaN  \n",
      "...              ...      ...          ...                    ...  \n",
      "4516           False    False         12.0                    NaN  \n",
      "4517           False     True         13.0                    NaN  \n",
      "4518           False    False         11.0                    NaN  \n",
      "4519           False    False         22.0                    NaN  \n",
      "4520           False    False         11.0                    NaN  \n",
      "\n",
      "[4521 rows x 15 columns]\n"
     ]
    }
   ],
   "source": [
    "# Import required libraries\n",
    "import pandas as pd\n",
    "from plotnine import *\n",
    "import numpy as np\n",
    "\n",
    "# Import csv file of properties from Idealista API\n",
    "df = pd.read_csv('~/Desktop/DS105L/Project/rental-output.csv')\n",
    "print(df)\n"
   ]
  },
  {
   "cell_type": "code",
   "execution_count": 8,
   "metadata": {},
   "outputs": [
    {
     "name": "stdout",
     "output_type": "stream",
     "text": [
      "              price           size        rooms    bathrooms      distance   \n",
      "count   4521.000000    4521.000000  4521.000000  4521.000000   4521.000000  \\\n",
      "mean    1498.919487     131.414935     2.516257     1.642115   4122.169432   \n",
      "std     1493.922481    1636.270556     1.159899     0.836520   4559.168798   \n",
      "min      300.000000      18.000000     0.000000     1.000000      0.000000   \n",
      "25%      800.000000      68.000000     2.000000     1.000000   1099.000000   \n",
      "50%     1100.000000      90.000000     3.000000     1.000000   2265.000000   \n",
      "75%     1650.000000     120.000000     3.000000     2.000000   5012.000000   \n",
      "max    25000.000000  110000.000000    10.000000    11.000000  19973.000000   \n",
      "\n",
      "       priceByArea  \n",
      "count  4521.000000  \n",
      "mean     14.660473  \n",
      "std       7.966798  \n",
      "min       0.000000  \n",
      "25%      10.000000  \n",
      "50%      13.000000  \n",
      "75%      17.000000  \n",
      "max      83.000000  \n",
      "90.0\n"
     ]
    }
   ],
   "source": [
    "# Create summary table of all properties\n",
    "summary_table = df.describe()\n",
    "print(summary_table)\n",
    "\n",
    "# Include median\n",
    "median = df['size'].median()\n",
    "print(median)"
   ]
  },
  {
   "cell_type": "code",
   "execution_count": 12,
   "metadata": {},
   "outputs": [
    {
     "name": "stderr",
     "output_type": "stream",
     "text": [
      "/Users/rachellui/opt/anaconda3/lib/python3.9/site-packages/plotnine/layer.py:333: PlotnineWarning: stat_bin : Removed 3 rows containing non-finite values.\n",
      "/Users/rachellui/opt/anaconda3/lib/python3.9/site-packages/plotnine/layer.py:411: PlotnineWarning: geom_histogram : Removed 2 rows containing missing values.\n"
     ]
    },
    {
     "data": {
      "image/png": "[encoded data removed]",
      "text/plain": [
       "<Figure size 640x480 with 1 Axes>"
      ]
     },
     "metadata": {
      "needs_background": "light"
     },
     "output_type": "display_data"
    },
    {
     "name": "stdout",
     "output_type": "stream",
     "text": [
      "\n"
     ]
    }
   ],
   "source": [
    "# Plot the distribution graph with median line\n",
    "p2 = (ggplot(df, aes(x='size')) +\n",
    "      geom_histogram(bins=50, binwidth=5, fill='#EEB246') +\n",
    "      geom_vline(xintercept=median, color='red', linetype='solid', size=0.5) +\n",
    "      scale_x_continuous(limits=[0, 1000]) +\n",
    "      labs(x='Property Size (sqm)', y='No of Properties') +\n",
    "      ggtitle('Distribution of Property Size in Spanish Rental Market') +\n",
    "      theme_minimal())\n",
    "\n",
    "print(p2)\n"
   ]
  },
  {
   "cell_type": "code",
   "execution_count": null,
   "metadata": {},
   "outputs": [],
   "source": []
  }
 ],
 "metadata": {
  "kernelspec": {
   "display_name": "base",
   "language": "python",
   "name": "python3"
  },
  "language_info": {
   "codemirror_mode": {
    "name": "ipython",
    "version": 3
   },
   "file_extension": ".py",
   "mimetype": "text/x-python",
   "name": "python",
   "nbconvert_exporter": "python",
   "pygments_lexer": "ipython3",
   "version": "3.9.13"
  },
  "orig_nbformat": 4,
  "vscode": {
   "interpreter": {
    "hash": "c673c4c11373884bf173360f1c85a362ac13bb9788d7ece719251d1b836702c0"
   }
  }
 },
 "nbformat": 4,
 "nbformat_minor": 2
}
